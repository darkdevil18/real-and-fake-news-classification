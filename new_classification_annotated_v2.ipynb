{
 "cells": [
  {
   "cell_type": "markdown",
   "id": "acdb0343-1be6-4105-913e-f8c5a3ee779e",
   "metadata": {},
   "source": [
    "<h1 style=\"color:red; font-size: 48px;\">Fake and Real News Classification</h1>"
   ]
  },
  {
   "cell_type": "markdown",
   "id": "954a2c4c-1825-4230-9914-e04b512ae232",
   "metadata": {},
   "source": [
    "# 🧠 Objective\n",
    "\n",
    "The objective of this project is to build a **binary text classification model** to distinguish between **real** and **fake** news articles.  \n",
    "We use **word embeddings** and a **custom PyTorch neural network** to learn semantic representations from text and perform classification.\n",
    "\n",
    "> **Note:** While this approach may be an **overkill for the small dataset**, it provides an interesting and instructive example of building an end-to-end NLP model using PyTorch.\n",
    "\n",
    "---\n",
    "\n",
    "# 🛠️ Project Workflow\n",
    "\n",
    "1. **🔽 Data Loading**\n",
    "   - Load datasets for real and fake news.\n",
    "   - Assign binary labels: `1` for real, `0` for fake.\n",
    "\n",
    "2. **🧹 Text Preprocessing**\n",
    "   - Merge `title` and `text` fields into a `content` column.\n",
    "   - Clean the text by removing stopwords and non-alphabetic tokens.\n",
    "\n",
    "3. **🔤 Vocabulary & Tokenization**\n",
    "   - Build a vocabulary from the training set.\n",
    "   - Tokenize text and convert tokens into integer IDs.\n",
    "\n",
    "4. **📦 Dataset and DataLoader Setup**\n",
    "   - Define a custom `TextClassificationDataset` class.\n",
    "   - Use `nn.EmbeddingBag` for efficient word embedding.\n",
    "   - Create PyTorch `DataLoader`s for training and validation sets.\n",
    "\n",
    "5. **🧠 Model Architecture**\n",
    "   - Define a feed-forward neural network with embeddings.\n",
    "   - Train the model using cross-entropy loss and an optimizer like Adam.\n",
    "\n",
    "6. **📈 Training & Validation**\n",
    "   - Train the model over multiple epochs.\n",
    "   - Monitor performance using a validation set.\n",
    "\n",
    "7. **🚫 No Test Evaluation**\n",
    "   - This notebook focuses on training and validating the model.\n",
    "   - No separate test set evaluation is performed.\n",
    "\n",
    "---"
   ]
  },
  {
   "cell_type": "markdown",
   "id": "ff30860c-f2dd-4a71-9a04-055be31236d4",
   "metadata": {},
   "source": [
    "# 📦 Importing Libraries\n",
    "\n",
    "We begin by importing the necessary libraries for:\n",
    "- Tokenization (`tokenizers`, `nltk`)\n",
    "- Dataset preparation (`torch`, `sklearn`)\n",
    "- Model building (`torch.nn`)\n",
    "- Data handling (`pandas`, `tqdm`)\n",
    "Warnings are suppressed for cleaner output.\n"
   ]
  },
  {
   "cell_type": "code",
   "execution_count": 1,
   "id": "1df3f94b-284f-480f-81c5-1d6abff50185",
   "metadata": {},
   "outputs": [],
   "source": [
    "import torch\n",
    "import torch.nn as nn\n",
    "\n",
    "from torch.utils.data import Dataset, DataLoader\n",
    "\n",
    "from tokenizers import Tokenizer\n",
    "from tokenizers.models import WordLevel\n",
    "from tokenizers.trainers import WordLevelTrainer\n",
    "from tokenizers.pre_tokenizers import Whitespace\n",
    "\n",
    "from nltk.corpus import stopwords\n",
    "from nltk.tokenize import word_tokenize\n",
    "\n",
    "import pandas as pd\n",
    "from sklearn.model_selection import train_test_split\n",
    "\n",
    "from tqdm import tqdm\n",
    "\n",
    "import warnings\n",
    "\n",
    "warnings.filterwarnings('ignore')"
   ]
  },
  {
   "cell_type": "markdown",
   "id": "ad45afdc-e047-4277-8e64-4a46951894ff",
   "metadata": {},
   "source": [
    "# 📂 Loading Datasets\n",
    "\n",
    "We load two datasets:\n",
    "- `True.csv` for real news articles\n",
    "- `Fake.csv` for fake news articles\n",
    "\n",
    "We only select the `title` and `text` columns from each file.\n"
   ]
  },
  {
   "cell_type": "code",
   "execution_count": 2,
   "id": "9b1bf78b-e615-4108-b9c5-e48bfd98a79f",
   "metadata": {},
   "outputs": [],
   "source": [
    "real = pd.read_csv('True.csv', usecols=['title', 'text'])\n",
    "fake = pd.read_csv('Fake.csv', usecols=['title', 'text'])"
   ]
  },
  {
   "cell_type": "markdown",
   "id": "4dde5ecd-141c-4015-8dc9-32cf90471373",
   "metadata": {},
   "source": [
    "# 👀 Previewing Real News Data\n",
    "\n",
    "Let’s inspect the first few rows of the real news dataset to understand its structure and content."
   ]
  },
  {
   "cell_type": "code",
   "execution_count": 3,
   "id": "0ac88c26-e3c3-4bbe-97a2-7f073e6d0b54",
   "metadata": {},
   "outputs": [
    {
     "data": {
      "text/html": [
       "<div>\n",
       "<style scoped>\n",
       "    .dataframe tbody tr th:only-of-type {\n",
       "        vertical-align: middle;\n",
       "    }\n",
       "\n",
       "    .dataframe tbody tr th {\n",
       "        vertical-align: top;\n",
       "    }\n",
       "\n",
       "    .dataframe thead th {\n",
       "        text-align: right;\n",
       "    }\n",
       "</style>\n",
       "<table border=\"1\" class=\"dataframe\">\n",
       "  <thead>\n",
       "    <tr style=\"text-align: right;\">\n",
       "      <th></th>\n",
       "      <th>title</th>\n",
       "      <th>text</th>\n",
       "    </tr>\n",
       "  </thead>\n",
       "  <tbody>\n",
       "    <tr>\n",
       "      <th>0</th>\n",
       "      <td>As U.S. budget fight looms, Republicans flip t...</td>\n",
       "      <td>WASHINGTON (Reuters) - The head of a conservat...</td>\n",
       "    </tr>\n",
       "    <tr>\n",
       "      <th>1</th>\n",
       "      <td>U.S. military to accept transgender recruits o...</td>\n",
       "      <td>WASHINGTON (Reuters) - Transgender people will...</td>\n",
       "    </tr>\n",
       "    <tr>\n",
       "      <th>2</th>\n",
       "      <td>Senior U.S. Republican senator: 'Let Mr. Muell...</td>\n",
       "      <td>WASHINGTON (Reuters) - The special counsel inv...</td>\n",
       "    </tr>\n",
       "    <tr>\n",
       "      <th>3</th>\n",
       "      <td>FBI Russia probe helped by Australian diplomat...</td>\n",
       "      <td>WASHINGTON (Reuters) - Trump campaign adviser ...</td>\n",
       "    </tr>\n",
       "    <tr>\n",
       "      <th>4</th>\n",
       "      <td>Trump wants Postal Service to charge 'much mor...</td>\n",
       "      <td>SEATTLE/WASHINGTON (Reuters) - President Donal...</td>\n",
       "    </tr>\n",
       "  </tbody>\n",
       "</table>\n",
       "</div>"
      ],
      "text/plain": [
       "                                               title  \\\n",
       "0  As U.S. budget fight looms, Republicans flip t...   \n",
       "1  U.S. military to accept transgender recruits o...   \n",
       "2  Senior U.S. Republican senator: 'Let Mr. Muell...   \n",
       "3  FBI Russia probe helped by Australian diplomat...   \n",
       "4  Trump wants Postal Service to charge 'much mor...   \n",
       "\n",
       "                                                text  \n",
       "0  WASHINGTON (Reuters) - The head of a conservat...  \n",
       "1  WASHINGTON (Reuters) - Transgender people will...  \n",
       "2  WASHINGTON (Reuters) - The special counsel inv...  \n",
       "3  WASHINGTON (Reuters) - Trump campaign adviser ...  \n",
       "4  SEATTLE/WASHINGTON (Reuters) - President Donal...  "
      ]
     },
     "execution_count": 3,
     "metadata": {},
     "output_type": "execute_result"
    }
   ],
   "source": [
    "real.head()"
   ]
  },
  {
   "cell_type": "markdown",
   "id": "e95fd89d-d8e2-4fac-a2a0-0381b3230022",
   "metadata": {},
   "source": [
    "## 🔍 Observations:\n",
    "- The dataset contains two textual fields: `title` and `text`.\n",
    "- The texts are formal news content, often starting with a dateline like “WASHINGTON (Reuters)...”.\n",
    "This structure will help guide our preprocessing and tokenization strategy.\n"
   ]
  },
  {
   "cell_type": "code",
   "execution_count": 4,
   "id": "d31ee1d0-d297-49b3-a563-6aa26a9eb166",
   "metadata": {},
   "outputs": [
    {
     "data": {
      "text/html": [
       "<div>\n",
       "<style scoped>\n",
       "    .dataframe tbody tr th:only-of-type {\n",
       "        vertical-align: middle;\n",
       "    }\n",
       "\n",
       "    .dataframe tbody tr th {\n",
       "        vertical-align: top;\n",
       "    }\n",
       "\n",
       "    .dataframe thead th {\n",
       "        text-align: right;\n",
       "    }\n",
       "</style>\n",
       "<table border=\"1\" class=\"dataframe\">\n",
       "  <thead>\n",
       "    <tr style=\"text-align: right;\">\n",
       "      <th></th>\n",
       "      <th>title</th>\n",
       "      <th>text</th>\n",
       "    </tr>\n",
       "  </thead>\n",
       "  <tbody>\n",
       "    <tr>\n",
       "      <th>0</th>\n",
       "      <td>Donald Trump Sends Out Embarrassing New Year’...</td>\n",
       "      <td>Donald Trump just couldn t wish all Americans ...</td>\n",
       "    </tr>\n",
       "    <tr>\n",
       "      <th>1</th>\n",
       "      <td>Drunk Bragging Trump Staffer Started Russian ...</td>\n",
       "      <td>House Intelligence Committee Chairman Devin Nu...</td>\n",
       "    </tr>\n",
       "    <tr>\n",
       "      <th>2</th>\n",
       "      <td>Sheriff David Clarke Becomes An Internet Joke...</td>\n",
       "      <td>On Friday, it was revealed that former Milwauk...</td>\n",
       "    </tr>\n",
       "    <tr>\n",
       "      <th>3</th>\n",
       "      <td>Trump Is So Obsessed He Even Has Obama’s Name...</td>\n",
       "      <td>On Christmas day, Donald Trump announced that ...</td>\n",
       "    </tr>\n",
       "    <tr>\n",
       "      <th>4</th>\n",
       "      <td>Pope Francis Just Called Out Donald Trump Dur...</td>\n",
       "      <td>Pope Francis used his annual Christmas Day mes...</td>\n",
       "    </tr>\n",
       "  </tbody>\n",
       "</table>\n",
       "</div>"
      ],
      "text/plain": [
       "                                               title  \\\n",
       "0   Donald Trump Sends Out Embarrassing New Year’...   \n",
       "1   Drunk Bragging Trump Staffer Started Russian ...   \n",
       "2   Sheriff David Clarke Becomes An Internet Joke...   \n",
       "3   Trump Is So Obsessed He Even Has Obama’s Name...   \n",
       "4   Pope Francis Just Called Out Donald Trump Dur...   \n",
       "\n",
       "                                                text  \n",
       "0  Donald Trump just couldn t wish all Americans ...  \n",
       "1  House Intelligence Committee Chairman Devin Nu...  \n",
       "2  On Friday, it was revealed that former Milwauk...  \n",
       "3  On Christmas day, Donald Trump announced that ...  \n",
       "4  Pope Francis used his annual Christmas Day mes...  "
      ]
     },
     "execution_count": 4,
     "metadata": {},
     "output_type": "execute_result"
    }
   ],
   "source": [
    "fake.head()"
   ]
  },
  {
   "cell_type": "code",
   "execution_count": 5,
   "id": "1057cdb0-93d3-4091-99e6-f0886aa6c6c8",
   "metadata": {},
   "outputs": [],
   "source": [
    "real['label'] = 1\n",
    "fake['label'] = 0"
   ]
  },
  {
   "cell_type": "code",
   "execution_count": 6,
   "id": "309193aa-23e1-40b3-b04b-5d024ad5640a",
   "metadata": {},
   "outputs": [],
   "source": [
    "df = pd.concat([real, fake], ignore_index=True)"
   ]
  },
  {
   "cell_type": "code",
   "execution_count": 7,
   "id": "c2e8e895-cb8c-40d1-9c86-19a0925becfe",
   "metadata": {},
   "outputs": [],
   "source": [
    "stop_words = set(stopwords.words('english'))"
   ]
  },
  {
   "cell_type": "code",
   "execution_count": 8,
   "id": "5f0c2b8e-092c-4f7b-becc-f194ca9c38e9",
   "metadata": {},
   "outputs": [],
   "source": [
    "def remove_stopwrods(text):\n",
    "    word_tokens = word_tokenize(text)\n",
    "    filtered_text = [word for word in word_tokens if word.lower() not in stop_words and word.isalpha()]\n",
    "    return \" \".join(filtered_text)\n",
    "    "
   ]
  },
  {
   "cell_type": "markdown",
   "id": "bfde8061",
   "metadata": {},
   "source": [
    "## 🧱 Rebuilding Unified Text Field\n",
    "\n",
    "We ensure that the `content` field is constructed by combining `title` and `text` again. This guarantees that any previous operations affecting `content` are overwritten and consistent."
   ]
  },
  {
   "cell_type": "code",
   "execution_count": 9,
   "id": "903b6c72-18f3-4425-b294-7ac5684299d1",
   "metadata": {},
   "outputs": [],
   "source": [
    "df['content'] = df['title'] + ' ' + df['text']"
   ]
  },
  {
   "cell_type": "markdown",
   "id": "6f9a06c8",
   "metadata": {},
   "source": [
    "## 🧼 Final Text Cleaning\n",
    "\n",
    "We apply our custom `remove_stopwrods` function to clean the combined `content` field. This includes removing stopwords and non-alphabetic tokens."
   ]
  },
  {
   "cell_type": "code",
   "execution_count": 10,
   "id": "996133cf-e5c6-471e-b74a-c0b3b17c8241",
   "metadata": {},
   "outputs": [],
   "source": [
    "df['content'] = df['content'].apply(remove_stopwrods)"
   ]
  },
  {
   "cell_type": "markdown",
   "id": "4d4f07d7",
   "metadata": {},
   "source": [
    "## 🔀 Dataset Shuffling\n",
    "\n",
    "Shuffling the dataset ensures that there is no ordering bias when feeding data to the model."
   ]
  },
  {
   "cell_type": "code",
   "execution_count": 11,
   "id": "f30152ee-26cd-4e8f-9de1-e4e8fd94fd18",
   "metadata": {},
   "outputs": [],
   "source": [
    "df = df.sample(frac=1, random_state=101)"
   ]
  },
  {
   "cell_type": "markdown",
   "id": "39e6df42",
   "metadata": {},
   "source": [
    "## 📊 Final Dataset Structure\n",
    "\n",
    "We keep only the `content` and `label` columns and reset the index. This creates a clean and consistent structure for downstream model training."
   ]
  },
  {
   "cell_type": "code",
   "execution_count": 12,
   "id": "510df621-659e-450e-a082-5a0c67fe5759",
   "metadata": {},
   "outputs": [
    {
     "data": {
      "text/html": [
       "<div>\n",
       "<style scoped>\n",
       "    .dataframe tbody tr th:only-of-type {\n",
       "        vertical-align: middle;\n",
       "    }\n",
       "\n",
       "    .dataframe tbody tr th {\n",
       "        vertical-align: top;\n",
       "    }\n",
       "\n",
       "    .dataframe thead th {\n",
       "        text-align: right;\n",
       "    }\n",
       "</style>\n",
       "<table border=\"1\" class=\"dataframe\">\n",
       "  <thead>\n",
       "    <tr style=\"text-align: right;\">\n",
       "      <th></th>\n",
       "      <th>content</th>\n",
       "      <th>label</th>\n",
       "    </tr>\n",
       "  </thead>\n",
       "  <tbody>\n",
       "    <tr>\n",
       "      <th>0</th>\n",
       "      <td>Factbox Humanitarian crisis worsens Bangladesh...</td>\n",
       "      <td>1</td>\n",
       "    </tr>\n",
       "    <tr>\n",
       "      <th>1</th>\n",
       "      <td>Transgender court hearing set amid fight Trump...</td>\n",
       "      <td>1</td>\n",
       "    </tr>\n",
       "    <tr>\n",
       "      <th>2</th>\n",
       "      <td>BRIEFCASES FULL MONEY One Undercover Whistlebl...</td>\n",
       "      <td>0</td>\n",
       "    </tr>\n",
       "    <tr>\n",
       "      <th>3</th>\n",
       "      <td>FIVE REASONS Vote Donald Trump Video LANGUAGE ...</td>\n",
       "      <td>0</td>\n",
       "    </tr>\n",
       "    <tr>\n",
       "      <th>4</th>\n",
       "      <td>Trump administration sued phone searches borde...</td>\n",
       "      <td>1</td>\n",
       "    </tr>\n",
       "  </tbody>\n",
       "</table>\n",
       "</div>"
      ],
      "text/plain": [
       "                                             content  label\n",
       "0  Factbox Humanitarian crisis worsens Bangladesh...      1\n",
       "1  Transgender court hearing set amid fight Trump...      1\n",
       "2  BRIEFCASES FULL MONEY One Undercover Whistlebl...      0\n",
       "3  FIVE REASONS Vote Donald Trump Video LANGUAGE ...      0\n",
       "4  Trump administration sued phone searches borde...      1"
      ]
     },
     "execution_count": 12,
     "metadata": {},
     "output_type": "execute_result"
    }
   ],
   "source": [
    "df = df[['content', 'label']].reset_index(drop=True)\n",
    "df.head()"
   ]
  },
  {
   "cell_type": "markdown",
   "id": "fdf5711e",
   "metadata": {},
   "source": [
    "### ✅ Preview Output\n",
    "\n",
    "From the preview, we confirm that each row has cleaned content and an associated binary label."
   ]
  },
  {
   "cell_type": "markdown",
   "id": "ed26ec6b",
   "metadata": {},
   "source": [
    "## 🧾 DataFrame Overview\n",
    "\n",
    "We check the data type and memory usage of the dataset to confirm its readiness for model processing."
   ]
  },
  {
   "cell_type": "code",
   "execution_count": 13,
   "id": "0388a250-c780-4321-ad9d-d6d2548701eb",
   "metadata": {},
   "outputs": [
    {
     "name": "stdout",
     "output_type": "stream",
     "text": [
      "<class 'pandas.core.frame.DataFrame'>\n",
      "RangeIndex: 44898 entries, 0 to 44897\n",
      "Data columns (total 2 columns):\n",
      " #   Column   Non-Null Count  Dtype \n",
      "---  ------   --------------  ----- \n",
      " 0   content  44898 non-null  object\n",
      " 1   label    44898 non-null  int64 \n",
      "dtypes: int64(1), object(1)\n",
      "memory usage: 701.7+ KB\n"
     ]
    }
   ],
   "source": [
    "df.info()"
   ]
  },
  {
   "cell_type": "markdown",
   "id": "40a4594a",
   "metadata": {},
   "source": [
    "### 📐 Data Overview Output\n",
    "\n",
    "There are **44,898 samples** with two columns (`content`, `label`). No missing values are present, confirming data integrity."
   ]
  },
  {
   "cell_type": "markdown",
   "id": "ef255cbc",
   "metadata": {},
   "source": [
    "## 🧱 Custom Dataset Class\n",
    "\n",
    "This defines a `TextClassificationDataset` PyTorch class to:\n",
    "- Split the dataset into train/test internally\n",
    "- Tokenize the content using `tokenizers` library\n",
    "- Return token IDs and labels in `__getitem__`\n",
    "\n",
    "This enables flexible loading and tokenization of samples."
   ]
  },
  {
   "cell_type": "code",
   "execution_count": 14,
   "id": "cd3c6639-4ab4-4ac8-b2f0-9a0a09dceef9",
   "metadata": {},
   "outputs": [],
   "source": [
    "class TextClassificationDataset(Dataset):\n",
    "    def __init__(self, dataframe, tokenizer=None, text_column='content', label_column='label', train=False):\n",
    "        super().__init__()\n",
    "\n",
    "        train_df, test_df = train_test_split(dataframe,\n",
    "                                             test_size=0.1,\n",
    "                                             random_state=42,\n",
    "                                             shuffle=True,\n",
    "                                             stratify=dataframe[label_column]\n",
    "                                            )\n",
    "        \n",
    "        if train:\n",
    "            self.texts = train_df[text_column].tolist()\n",
    "            self.labels = train_df[label_column].tolist()\n",
    "\n",
    "            if tokenizer is None:\n",
    "                self._build_tokenizer(self.texts)\n",
    "            else:\n",
    "                self.tokenizer = tokenizer\n",
    "        else:\n",
    "            self.texts = test_df[text_column].tolist()\n",
    "            self.labels = test_df[label_column].tolist()\n",
    "\n",
    "            if tokenizer is None:\n",
    "                raise ValueError(\"Tokenizer must be provided for test split.\")\n",
    "\n",
    "            self.tokenizer = tokenizer\n",
    "        \n",
    "    def _build_tokenizer(self, texts):\n",
    "        self.tokenizer = Tokenizer(WordLevel(unk_token=\"<unk>\"))\n",
    "        self.tokenizer.pre_tokenizer = Whitespace()\n",
    "        trainer = WordLevelTrainer(special_tokens=[\"<unk>\", \"<pad>\"])\n",
    "        self.tokenizer.train_from_iterator(texts, trainer=trainer)\n",
    "        \n",
    "    def __len__(self):\n",
    "        return len(self.texts)\n",
    "\n",
    "    def __getitem__(self, idx):\n",
    "        token_ids = self.tokenizer.encode(self.texts[idx]).ids\n",
    "        token_ids = torch.tensor(token_ids, dtype=torch.long)\n",
    "        return token_ids, self.labels[idx]"
   ]
  },
  {
   "cell_type": "markdown",
   "id": "66b00ffd",
   "metadata": {},
   "source": [
    "## 📦 Batch Collation Function\n",
    "\n",
    "We define a `collate_batch` function to:\n",
    "- Compute offsets for each sample (needed for `EmbeddingBag`)\n",
    "- Return `token_ids`, `labels`, and `offsets` for batch processing"
   ]
  },
  {
   "cell_type": "code",
   "execution_count": 15,
   "id": "04682e60-7969-4299-88f8-812c4523dec2",
   "metadata": {},
   "outputs": [],
   "source": [
    "def collate_batch(batch):\n",
    "    token_lists, labels = zip(*batch)\n",
    "\n",
    "    token_ids = torch.cat(token_lists)\n",
    "    labels = torch.tensor(labels, dtype=torch.long)\n",
    "\n",
    "    offsets = [0]\n",
    "    for tokens in token_lists:\n",
    "        offsets.append(offsets[-1] + len(tokens))\n",
    "\n",
    "    offsets = torch.tensor(offsets[:-1], dtype=torch.long)\n",
    "    \n",
    "    return token_ids, labels, offsets"
   ]
  },
  {
   "cell_type": "markdown",
   "id": "1b4bf348",
   "metadata": {},
   "source": [
    "## 🏗️ Initializing Datasets\n",
    "\n",
    "We instantiate training and validation dataset objects using our custom class. The tokenizer is trained only on the training set and reused for validation."
   ]
  },
  {
   "cell_type": "code",
   "execution_count": 17,
   "id": "74bc125f-60de-4acd-8e4c-b8755424da7a",
   "metadata": {},
   "outputs": [],
   "source": [
    "train_dataset = TextClassificationDataset(df, train=True)\n",
    "val_dataset = TextClassificationDataset(df, tokenizer=train_dataset.tokenizer)"
   ]
  },
  {
   "cell_type": "markdown",
   "id": "42d60508",
   "metadata": {},
   "source": [
    "## 🔄 Dataloader Setup\n",
    "\n",
    "We create PyTorch DataLoaders for both training and validation datasets. Batch size and collation function are specified for efficient loading."
   ]
  },
  {
   "cell_type": "code",
   "execution_count": 18,
   "id": "9a2b3906-601a-41e7-a7e4-a161d44d0dd3",
   "metadata": {},
   "outputs": [],
   "source": [
    "train_loader = DataLoader(train_dataset, batch_size=64, collate_fn=collate_batch, shuffle=True)\n",
    "val_loader = DataLoader(val_dataset, batch_size=16, collate_fn=collate_batch)"
   ]
  },
  {
   "cell_type": "code",
   "execution_count": 19,
   "id": "a818b781-f5fd-46bc-ba0e-9f54d5c92849",
   "metadata": {},
   "outputs": [
    {
     "data": {
      "text/plain": [
       "(tensor([ 4033, 21714,   594,  ...,  1042,  1476,   117]),\n",
       " tensor([1, 0, 0, 1, 0, 1, 0, 0, 0, 0, 0, 1, 0, 1, 0, 1, 1, 0, 0, 1, 1, 1, 1, 1,\n",
       "         1, 0, 1, 1, 0, 1, 0, 1, 0, 0, 0, 0, 0, 0, 1, 0, 1, 1, 0, 1, 1, 0, 1, 1,\n",
       "         0, 1, 1, 1, 0, 1, 1, 0, 0, 1, 0, 1, 1, 1, 0, 1]),\n",
       " tensor([    0,   546,   883,  1072,  1308,  1828,  1974,  2152,  2170,  2495,\n",
       "          2713,  2966,  3008,  3083,  3218,  4857,  5108,  5179,  5325,  5437,\n",
       "          5495,  5578,  5728,  5962,  6193,  6477,  6527,  6592,  6946,  7352,\n",
       "          7605,  7758,  8251,  8380,  8560,  8829,  9102,  9271,  9830, 10018,\n",
       "         10285, 10528, 10789, 11026, 11428, 11505, 11667, 11787, 12201, 12301,\n",
       "         12835, 12872, 13169, 13354, 13412, 13456, 13497, 13643, 14075, 14154,\n",
       "         14195, 14572, 14775, 15032]))"
      ]
     },
     "execution_count": 19,
     "metadata": {},
     "output_type": "execute_result"
    }
   ],
   "source": [
    "next(iter(train_loader))"
   ]
  },
  {
   "cell_type": "code",
   "execution_count": 20,
   "id": "7db0203e-143d-4846-8c01-3bb0f1d79c5d",
   "metadata": {},
   "outputs": [
    {
     "data": {
      "text/plain": [
       "(tensor([11271,    87,   548,  ...,  4663,   138,   196]),\n",
       " tensor([1, 0, 1, 1, 0, 0, 0, 1, 1, 1, 1, 0, 0, 0, 1, 1]),\n",
       " tensor([   0,  331,  449,  513,  884,  977, 1123, 1561, 1947, 2276, 2640, 2848,\n",
       "         3152, 3415, 3649, 3858]))"
      ]
     },
     "execution_count": 20,
     "metadata": {},
     "output_type": "execute_result"
    }
   ],
   "source": [
    "next(iter(val_loader))"
   ]
  },
  {
   "cell_type": "code",
   "execution_count": 21,
   "id": "4aa8b701-8fef-4a65-a76d-5f0a540a7ed6",
   "metadata": {},
   "outputs": [],
   "source": [
    "class TextClassifier(nn.Module):\n",
    "    def __init__(self, vocab_size: int, embed_dim: int, num_classes: int):\n",
    "        super().__init__()\n",
    "\n",
    "        self.vocab_size = vocab_size\n",
    "        self.embed_dim = embed_dim\n",
    "\n",
    "        self.embedding = nn.EmbeddingBag(num_embeddings=vocab_size, embedding_dim=embed_dim)\n",
    "        self.fc = nn.Linear(embed_dim, num_classes)\n",
    "\n",
    "    def forward(self, text, offsets):\n",
    "        embed = self.embedding(text, offsets)\n",
    "        return self.fc(embed)"
   ]
  },
  {
   "cell_type": "code",
   "execution_count": 27,
   "id": "43c2b741-da5e-4ea8-a7de-2f687c8df99a",
   "metadata": {},
   "outputs": [
    {
     "name": "stdout",
     "output_type": "stream",
     "text": [
      "[Epochs:  1/10] | train_loss: 0.20373, train_acc: 0.94410 | val_loss: 0.06087, val_acc: 0.98307\n",
      "[Epochs:  2/10] | train_loss: 0.03987, train_acc: 0.98938 | val_loss: 0.03205, val_acc: 0.99087\n",
      "[Epochs:  3/10] | train_loss: 0.01844, train_acc: 0.99579 | val_loss: 0.02285, val_acc: 0.99354\n",
      "[Epochs:  4/10] | train_loss: 0.00965, train_acc: 0.99824 | val_loss: 0.01680, val_acc: 0.99443\n",
      "[Epochs:  5/10] | train_loss: 0.00534, train_acc: 0.99911 | val_loss: 0.01349, val_acc: 0.99532\n",
      "[Epochs:  6/10] | train_loss: 0.00299, train_acc: 0.99965 | val_loss: 0.01172, val_acc: 0.99621\n",
      "[Epochs:  7/10] | train_loss: 0.00173, train_acc: 0.99985 | val_loss: 0.01097, val_acc: 0.99666\n",
      "[Epochs:  8/10] | train_loss: 0.00105, train_acc: 0.99995 | val_loss: 0.01039, val_acc: 0.99644\n",
      "[Epochs:  9/10] | train_loss: 0.00065, train_acc: 0.99995 | val_loss: 0.01027, val_acc: 0.99644\n",
      "[Epochs: 10/10] | train_loss: 0.00043, train_acc: 0.99998 | val_loss: 0.01016, val_acc: 0.99644\n"
     ]
    }
   ],
   "source": [
    "device = torch.device('cpu')\n",
    "\n",
    "embed_dim = 200\n",
    "\n",
    "vocab_size = train_dataset.tokenizer.get_vocab_size()\n",
    "\n",
    "model = TextClassifier(vocab_size, embed_dim, 2).to(device)\n",
    "\n",
    "optimizer = torch.optim.Adam(model.parameters())\n",
    "\n",
    "loss_fn = nn.CrossEntropyLoss()\n",
    "\n",
    "epochs = 10\n",
    "\n",
    "losses = [] \n",
    "accs = []\n",
    "val_losses = []\n",
    "val_accs = []\n",
    "\n",
    "for epoch in range(epochs):\n",
    "    total_loss = 0.0\n",
    "    cur_len = 0\n",
    "    correct = 0\n",
    "\n",
    "    model.train()\n",
    "    for text, labels, offsets in train_loader:\n",
    "        text, labels, offsets = text.to(device), labels.to(device), offsets.to(device)\n",
    "        outputs = model(text, offsets)\n",
    "\n",
    "        optimizer.zero_grad()\n",
    "\n",
    "        loss = loss_fn(outputs, labels)\n",
    "        loss.backward()\n",
    "        optimizer.step()\n",
    "\n",
    "        batch_size = labels.size(0)\n",
    "        total_loss += loss.item() * batch_size \n",
    "\n",
    "        _, predicted = torch.max(outputs, dim=1)\n",
    "        correct += (predicted == labels).sum().item()\n",
    "        \n",
    "        cur_len += batch_size\n",
    "        \n",
    "\n",
    "    losses.append(total_loss/cur_len)\n",
    "    accs.append(correct/cur_len)\n",
    "\n",
    "    val_loss = 0.0\n",
    "    cur_len = 0\n",
    "    correct = 0\n",
    "    \n",
    "    with torch.no_grad():\n",
    "        model.eval()\n",
    "        for text, labels, offsets in val_loader:\n",
    "            text, labels, offsets = text.to(device), labels.to(device), offsets.to(device)\n",
    "            outputs = model(text, offsets)\n",
    "    \n",
    "            loss = loss_fn(outputs, labels)\n",
    "    \n",
    "            batch_size = labels.size(0)\n",
    "            val_loss += loss.item() * batch_size \n",
    "    \n",
    "            _, predicted = torch.max(outputs, dim=1)\n",
    "            correct += (predicted == labels).sum().item()\n",
    "            \n",
    "            cur_len += batch_size\n",
    "\n",
    "    val_loss = val_loss / cur_len\n",
    "    val_acc = correct / cur_len\n",
    "\n",
    "    val_losses.append(val_loss)\n",
    "    val_accs.append(val_acc)\n",
    "\n",
    "    print(f\"[Epochs: {epoch+1:>{len(str(epochs))}}/{epochs}]\",\n",
    "          f\"train_loss: {losses[-1]:.5f}, train_acc: {accs[-1]:.5f}\",\n",
    "          f\"val_loss: {val_losses[-1]:.5f}, val_acc: {val_accs[-1]:.5f}\",\n",
    "          sep=\" | \"\n",
    "         )"
   ]
  },
  {
   "cell_type": "code",
   "execution_count": 23,
   "id": "d8ff1622-6a58-4086-a25d-2764c1ed41d6",
   "metadata": {},
   "outputs": [
    {
     "data": {
      "text/html": [
       "<div>\n",
       "<style scoped>\n",
       "    .dataframe tbody tr th:only-of-type {\n",
       "        vertical-align: middle;\n",
       "    }\n",
       "\n",
       "    .dataframe tbody tr th {\n",
       "        vertical-align: top;\n",
       "    }\n",
       "\n",
       "    .dataframe thead th {\n",
       "        text-align: right;\n",
       "    }\n",
       "</style>\n",
       "<table border=\"1\" class=\"dataframe\">\n",
       "  <thead>\n",
       "    <tr style=\"text-align: right;\">\n",
       "      <th></th>\n",
       "      <th>Training Loss</th>\n",
       "      <th>Training Accuracy</th>\n",
       "      <th>Validation Loss</th>\n",
       "      <th>Validation Accuracy</th>\n",
       "    </tr>\n",
       "  </thead>\n",
       "  <tbody>\n",
       "    <tr>\n",
       "      <th>0</th>\n",
       "      <td>0.207922</td>\n",
       "      <td>0.942041</td>\n",
       "      <td>0.061138</td>\n",
       "      <td>0.983519</td>\n",
       "    </tr>\n",
       "    <tr>\n",
       "      <th>1</th>\n",
       "      <td>0.039726</td>\n",
       "      <td>0.989952</td>\n",
       "      <td>0.032625</td>\n",
       "      <td>0.990646</td>\n",
       "    </tr>\n",
       "    <tr>\n",
       "      <th>2</th>\n",
       "      <td>0.018566</td>\n",
       "      <td>0.996189</td>\n",
       "      <td>0.022673</td>\n",
       "      <td>0.993318</td>\n",
       "    </tr>\n",
       "    <tr>\n",
       "      <th>3</th>\n",
       "      <td>0.009750</td>\n",
       "      <td>0.998144</td>\n",
       "      <td>0.017391</td>\n",
       "      <td>0.995100</td>\n",
       "    </tr>\n",
       "    <tr>\n",
       "      <th>4</th>\n",
       "      <td>0.005387</td>\n",
       "      <td>0.999134</td>\n",
       "      <td>0.014536</td>\n",
       "      <td>0.995768</td>\n",
       "    </tr>\n",
       "    <tr>\n",
       "      <th>5</th>\n",
       "      <td>0.003051</td>\n",
       "      <td>0.999703</td>\n",
       "      <td>0.012875</td>\n",
       "      <td>0.996437</td>\n",
       "    </tr>\n",
       "    <tr>\n",
       "      <th>6</th>\n",
       "      <td>0.001769</td>\n",
       "      <td>0.999852</td>\n",
       "      <td>0.012057</td>\n",
       "      <td>0.996659</td>\n",
       "    </tr>\n",
       "    <tr>\n",
       "      <th>7</th>\n",
       "      <td>0.001083</td>\n",
       "      <td>0.999926</td>\n",
       "      <td>0.011528</td>\n",
       "      <td>0.996882</td>\n",
       "    </tr>\n",
       "    <tr>\n",
       "      <th>8</th>\n",
       "      <td>0.000670</td>\n",
       "      <td>0.999975</td>\n",
       "      <td>0.011344</td>\n",
       "      <td>0.996882</td>\n",
       "    </tr>\n",
       "    <tr>\n",
       "      <th>9</th>\n",
       "      <td>0.000422</td>\n",
       "      <td>1.000000</td>\n",
       "      <td>0.011450</td>\n",
       "      <td>0.996659</td>\n",
       "    </tr>\n",
       "  </tbody>\n",
       "</table>\n",
       "</div>"
      ],
      "text/plain": [
       "   Training Loss  Training Accuracy  Validation Loss  Validation Accuracy\n",
       "0       0.207922           0.942041         0.061138             0.983519\n",
       "1       0.039726           0.989952         0.032625             0.990646\n",
       "2       0.018566           0.996189         0.022673             0.993318\n",
       "3       0.009750           0.998144         0.017391             0.995100\n",
       "4       0.005387           0.999134         0.014536             0.995768\n",
       "5       0.003051           0.999703         0.012875             0.996437\n",
       "6       0.001769           0.999852         0.012057             0.996659\n",
       "7       0.001083           0.999926         0.011528             0.996882\n",
       "8       0.000670           0.999975         0.011344             0.996882\n",
       "9       0.000422           1.000000         0.011450             0.996659"
      ]
     },
     "execution_count": 23,
     "metadata": {},
     "output_type": "execute_result"
    }
   ],
   "source": [
    "pd.DataFrame({\n",
    "    'Training Loss': losses,\n",
    "    'Training Accuracy': accs,\n",
    "    'Validation Loss': val_losses,\n",
    "    'Validation Accuracy': val_accs\n",
    "})"
   ]
  },
  {
   "cell_type": "code",
   "execution_count": 24,
   "id": "f6798c8d-b713-46d6-95f5-6affc8cc0dc3",
   "metadata": {},
   "outputs": [
    {
     "data": {
      "image/png": "[encoded data removed]",
      "text/plain": [
       "<Figure size 1000x600 with 2 Axes>"
      ]
     },
     "metadata": {},
     "output_type": "display_data"
    }
   ],
   "source": [
    "import matplotlib.pyplot as plt\n",
    "\n",
    "fig, ax1 = plt.subplots(figsize=(10, 6))\n",
    "\n",
    "ax2 = ax1.twinx()\n",
    "ax1.plot(range(1, epochs+1), losses, 'r-o', label='Train Loss')\n",
    "ax1.plot(range(1, epochs+1), val_losses, 'b-o', label='Val Loss')\n",
    "ax2.plot(range(1, epochs+1), accs, 'r-x', label='Train Accuracy')\n",
    "ax2.plot(range(1, epochs+1), val_accs, 'b-x', label='Val Accuracy')\n",
    "\n",
    "ax1.set_xlabel('Epoch')\n",
    "ax1.set_ylabel('Loss', color='r')\n",
    "ax2.set_ylabel('Accuracy', color='b')\n",
    "\n",
    "ax1.legend(loc='center')\n",
    "ax2.legend(loc='center right')\n",
    "\n",
    "plt.title('Loss and Accuracy per Epoch')\n",
    "plt.show()"
   ]
  }
 ],
 "metadata": {
  "kernelspec": {
   "display_name": "Python 3 (ipykernel)",
   "language": "python",
   "name": "python3"
  },
  "language_info": {
   "codemirror_mode": {
    "name": "ipython",
    "version": 3
   },
   "file_extension": ".py",
   "mimetype": "text/x-python",
   "name": "python",
   "nbconvert_exporter": "python",
   "pygments_lexer": "ipython3",
   "version": "3.11.13"
  }
 },
 "nbformat": 4,
 "nbformat_minor": 5
}
