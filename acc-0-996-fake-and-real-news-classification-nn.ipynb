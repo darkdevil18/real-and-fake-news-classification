{
 "cells": [
  {
   "cell_type": "raw",
   "id": "52a09d4c-9998-4e77-af9e-d57592846e1f",
   "metadata": {},
   "source": [
    "---\n",
    "title: \"Fake and Real News Classification\"\n",
    "author: \n",
    "    - name: Dibya S. Barik\n",
    "      email: barikdibyasampad@gmail.com\n",
    "      degrees:\n",
    "        - M.Sc.\n",
    "      affiliation:\n",
    "        - name: Central University of Rajasthan\n",
    "          url: https://www.curaj.ac.in/\n",
    "\n",
    "toc: true\n",
    "number-sections: true\n",
    "toc-depth: 2\n",
    "title-block-banner: true\n",
    "code-overflow: wrap\n",
    "code-block-bg: true\n",
    "code-block-border-left: \"#31BAE9\"\n",
    "\n",
    "format:\n",
    "    html:\n",
    "        code-fold: show\n",
    "        embed-resources: true\n",
    "        grid:\n",
    "            body-width: 1000px\n",
    "    pdf:\n",
    "        toc: true\n",
    "        classoption: [landscape]\n",
    "        lof: true\n",
    "        lot: true\n",
    "        toc-title: Contents\n",
    "        colorlinks: true\n",
    "        highlight-style: pygments\n",
    "        latex-auto-install: true\n",
    "        pdf-engine: xelatex\n",
    "\n",
    "    ipynb: default\n",
    "\n",
    "format-links:\n",
    "    - html\n",
    "    - pdf\n",
    "    - ipynb\n",
    "\n",
    "jupyter: python3\n",
    "---"
   ]
  },
  {
   "cell_type": "markdown",
   "id": "bcfd8ee3",
   "metadata": {
    "papermill": {
     "duration": 0.005051,
     "end_time": "2025-06-11T15:59:30.884510",
     "exception": false,
     "start_time": "2025-06-11T15:59:30.879459",
     "status": "completed"
    },
    "tags": []
   },
   "source": [
    "---\n",
    "\n",
    "# 🧠 Objective\n",
    "\n",
    "The objective of this project is to build a **binary text classification model** to distinguish between **real** and **fake** news articles.  \n",
    "We use **word embeddings** and a **custom PyTorch neural network** to learn semantic representations from text and perform classification.\n",
    "\n",
    "::: {.callout-note}\n",
    "While this approach may be an **overkill for the small dataset**, it provides an interesting and instructive example of building an end-to-end NLP model using PyTorch.\n",
    ":::\n",
    "\n",
    "---\n",
    "\n",
    "# 🛠️ Project Workflow\n",
    "\n",
    "1. **🔽 Data Loading**\n",
    "   - Load datasets for real and fake news.\n",
    "   - Assign binary labels: `1` for real, `0` for fake.\n",
    "\n",
    "2. **🧹 Text Preprocessing**\n",
    "   - Merge `title` and `text` fields into a `content` column.\n",
    "   - Clean the text by removing stopwords and non-alphabetic tokens.\n",
    "\n",
    "3. **🔤 Vocabulary & Tokenization**\n",
    "   - Build a vocabulary from the training set.\n",
    "   - Tokenize text and convert tokens into integer IDs.\n",
    "\n",
    "4. **📦 Dataset and DataLoader Setup**\n",
    "   - Define a custom `TextClassificationDataset` class.\n",
    "   - Use `nn.EmbeddingBag` for efficient word embedding.\n",
    "   - Create PyTorch `DataLoader`s for training and validation sets.\n",
    "\n",
    "5. **🧠 Model Architecture**\n",
    "   - Define a feed-forward neural network with embeddings.\n",
    "   - Train the model using cross-entropy loss and an optimizer like Adam.\n",
    "\n",
    "6. **📈 Training & Validation**\n",
    "   - Train the model over multiple epochs.\n",
    "   - Monitor performance using a validation set.\n",
    "\n",
    "7. **🚫 No Test Evaluation**\n",
    "   - This notebook focuses on training and validating the model.\n",
    "   - No separate test set evaluation is performed.\n",
    "\n",
    "---"
   ]
  },
  {
   "cell_type": "markdown",
   "id": "056042cb",
   "metadata": {
    "papermill": {
     "duration": 0.00473,
     "end_time": "2025-06-11T15:59:30.894222",
     "exception": false,
     "start_time": "2025-06-11T15:59:30.889492",
     "status": "completed"
    },
    "tags": []
   },
   "source": [
    "# 📦 Importing Libraries\n",
    "\n",
    "We begin by importing the necessary libraries for:\n",
    "\n",
    "- Tokenization (`tokenizers`, `nltk`)\n",
    "- Dataset preparation (`torch`, `sklearn`)\n",
    "- Model building (`torch.nn`)\n",
    "- Data handling (`pandas`, `tqdm`)\n",
    "  \n",
    "Warnings are suppressed for cleaner output.\n"
   ]
  },
  {
   "cell_type": "code",
   "execution_count": 1,
   "id": "a64ffd20",
   "metadata": {
    "papermill": {
     "duration": 7.297321,
     "end_time": "2025-06-11T15:59:38.196368",
     "exception": false,
     "start_time": "2025-06-11T15:59:30.899047",
     "status": "completed"
    },
    "tags": []
   },
   "outputs": [],
   "source": [
    "import torch\n",
    "import torch.nn as nn\n",
    "\n",
    "from torch.utils.data import Dataset, DataLoader\n",
    "\n",
    "from tokenizers import Tokenizer\n",
    "from tokenizers.models import WordLevel\n",
    "from tokenizers.trainers import WordLevelTrainer\n",
    "from tokenizers.pre_tokenizers import Whitespace\n",
    "\n",
    "from nltk.corpus import stopwords\n",
    "from nltk.tokenize import word_tokenize\n",
    "\n",
    "import pandas as pd\n",
    "from sklearn.model_selection import train_test_split\n",
    "\n",
    "from tqdm import tqdm\n",
    "\n",
    "import warnings\n",
    "\n",
    "warnings.filterwarnings('ignore')"
   ]
  },
  {
   "cell_type": "markdown",
   "id": "a004c73b",
   "metadata": {
    "papermill": {
     "duration": 0.005561,
     "end_time": "2025-06-11T15:59:38.207427",
     "exception": false,
     "start_time": "2025-06-11T15:59:38.201866",
     "status": "completed"
    },
    "tags": []
   },
   "source": [
    "# 📂 Loading Datasets\n",
    "\n",
    "We load two datasets:\n",
    "- `True.csv` for real news articles\n",
    "- `Fake.csv` for fake news articles\n",
    "\n",
    "We only select the `title` and `text` columns from each file.\n"
   ]
  },
  {
   "cell_type": "code",
   "execution_count": 2,
   "id": "6361779c",
   "metadata": {
    "papermill": {
     "duration": 2.517377,
     "end_time": "2025-06-11T15:59:40.729982",
     "exception": false,
     "start_time": "2025-06-11T15:59:38.212605",
     "status": "completed"
    },
    "tags": []
   },
   "outputs": [],
   "source": [
    "real = pd.read_csv('True.csv', usecols=['title', 'text'])\n",
    "fake = pd.read_csv('Fake.csv', usecols=['title', 'text'])"
   ]
  },
  {
   "cell_type": "markdown",
   "id": "fdf6199a",
   "metadata": {
    "papermill": {
     "duration": 0.004767,
     "end_time": "2025-06-11T15:59:40.740199",
     "exception": false,
     "start_time": "2025-06-11T15:59:40.735432",
     "status": "completed"
    },
    "tags": []
   },
   "source": [
    "## 👀 Previewing Real News Data\n",
    "\n",
    "Let’s inspect the first few rows of the real news dataset to understand its structure and content."
   ]
  },
  {
   "cell_type": "code",
   "execution_count": 3,
   "id": "1cbaabf8",
   "metadata": {
    "papermill": {
     "duration": 0.025685,
     "end_time": "2025-06-11T15:59:40.770814",
     "exception": false,
     "start_time": "2025-06-11T15:59:40.745129",
     "status": "completed"
    },
    "tags": []
   },
   "outputs": [
    {
     "data": {
      "text/html": [
       "<div>\n",
       "<style scoped>\n",
       "    .dataframe tbody tr th:only-of-type {\n",
       "        vertical-align: middle;\n",
       "    }\n",
       "\n",
       "    .dataframe tbody tr th {\n",
       "        vertical-align: top;\n",
       "    }\n",
       "\n",
       "    .dataframe thead th {\n",
       "        text-align: right;\n",
       "    }\n",
       "</style>\n",
       "<table border=\"1\" class=\"dataframe\">\n",
       "  <thead>\n",
       "    <tr style=\"text-align: right;\">\n",
       "      <th></th>\n",
       "      <th>title</th>\n",
       "      <th>text</th>\n",
       "    </tr>\n",
       "  </thead>\n",
       "  <tbody>\n",
       "    <tr>\n",
       "      <th>0</th>\n",
       "      <td>As U.S. budget fight looms, Republicans flip t...</td>\n",
       "      <td>WASHINGTON (Reuters) - The head of a conservat...</td>\n",
       "    </tr>\n",
       "    <tr>\n",
       "      <th>1</th>\n",
       "      <td>U.S. military to accept transgender recruits o...</td>\n",
       "      <td>WASHINGTON (Reuters) - Transgender people will...</td>\n",
       "    </tr>\n",
       "    <tr>\n",
       "      <th>2</th>\n",
       "      <td>Senior U.S. Republican senator: 'Let Mr. Muell...</td>\n",
       "      <td>WASHINGTON (Reuters) - The special counsel inv...</td>\n",
       "    </tr>\n",
       "    <tr>\n",
       "      <th>3</th>\n",
       "      <td>FBI Russia probe helped by Australian diplomat...</td>\n",
       "      <td>WASHINGTON (Reuters) - Trump campaign adviser ...</td>\n",
       "    </tr>\n",
       "    <tr>\n",
       "      <th>4</th>\n",
       "      <td>Trump wants Postal Service to charge 'much mor...</td>\n",
       "      <td>SEATTLE/WASHINGTON (Reuters) - President Donal...</td>\n",
       "    </tr>\n",
       "  </tbody>\n",
       "</table>\n",
       "</div>"
      ],
      "text/plain": [
       "                                               title  \\\n",
       "0  As U.S. budget fight looms, Republicans flip t...   \n",
       "1  U.S. military to accept transgender recruits o...   \n",
       "2  Senior U.S. Republican senator: 'Let Mr. Muell...   \n",
       "3  FBI Russia probe helped by Australian diplomat...   \n",
       "4  Trump wants Postal Service to charge 'much mor...   \n",
       "\n",
       "                                                text  \n",
       "0  WASHINGTON (Reuters) - The head of a conservat...  \n",
       "1  WASHINGTON (Reuters) - Transgender people will...  \n",
       "2  WASHINGTON (Reuters) - The special counsel inv...  \n",
       "3  WASHINGTON (Reuters) - Trump campaign adviser ...  \n",
       "4  SEATTLE/WASHINGTON (Reuters) - President Donal...  "
      ]
     },
     "execution_count": 3,
     "metadata": {},
     "output_type": "execute_result"
    }
   ],
   "source": [
    "real.head()"
   ]
  },
  {
   "cell_type": "markdown",
   "id": "e1db9294",
   "metadata": {
    "papermill": {
     "duration": 0.005247,
     "end_time": "2025-06-11T15:59:40.782113",
     "exception": false,
     "start_time": "2025-06-11T15:59:40.776866",
     "status": "completed"
    },
    "tags": []
   },
   "source": [
    "### 🔍 Observations:\n",
    "- The dataset contains two textual fields: `title` and `text`.\n",
    "- The texts are formal news content, often starting with a dateline like “WASHINGTON (Reuters)...”.\n",
    "This structure will help guide our preprocessing and tokenization strategy.\n"
   ]
  },
  {
   "cell_type": "markdown",
   "id": "e1125518",
   "metadata": {
    "papermill": {
     "duration": 0.006474,
     "end_time": "2025-06-11T15:59:40.794198",
     "exception": false,
     "start_time": "2025-06-11T15:59:40.787724",
     "status": "completed"
    },
    "tags": []
   },
   "source": [
    "## 👀 Previewing Fake News Data\n",
    "\n",
    "Let’s examine the first few rows of the fake news dataset to understand its structure and how it compares to the real news dataset.\n",
    "\n",
    "This helps verify consistency in formatting and content across both datasets."
   ]
  },
  {
   "cell_type": "code",
   "execution_count": 4,
   "id": "e7f95686",
   "metadata": {
    "papermill": {
     "duration": 0.014211,
     "end_time": "2025-06-11T15:59:40.813968",
     "exception": false,
     "start_time": "2025-06-11T15:59:40.799757",
     "status": "completed"
    },
    "tags": []
   },
   "outputs": [
    {
     "data": {
      "text/html": [
       "<div>\n",
       "<style scoped>\n",
       "    .dataframe tbody tr th:only-of-type {\n",
       "        vertical-align: middle;\n",
       "    }\n",
       "\n",
       "    .dataframe tbody tr th {\n",
       "        vertical-align: top;\n",
       "    }\n",
       "\n",
       "    .dataframe thead th {\n",
       "        text-align: right;\n",
       "    }\n",
       "</style>\n",
       "<table border=\"1\" class=\"dataframe\">\n",
       "  <thead>\n",
       "    <tr style=\"text-align: right;\">\n",
       "      <th></th>\n",
       "      <th>title</th>\n",
       "      <th>text</th>\n",
       "    </tr>\n",
       "  </thead>\n",
       "  <tbody>\n",
       "    <tr>\n",
       "      <th>0</th>\n",
       "      <td>Donald Trump Sends Out Embarrassing New Year’...</td>\n",
       "      <td>Donald Trump just couldn t wish all Americans ...</td>\n",
       "    </tr>\n",
       "    <tr>\n",
       "      <th>1</th>\n",
       "      <td>Drunk Bragging Trump Staffer Started Russian ...</td>\n",
       "      <td>House Intelligence Committee Chairman Devin Nu...</td>\n",
       "    </tr>\n",
       "    <tr>\n",
       "      <th>2</th>\n",
       "      <td>Sheriff David Clarke Becomes An Internet Joke...</td>\n",
       "      <td>On Friday, it was revealed that former Milwauk...</td>\n",
       "    </tr>\n",
       "    <tr>\n",
       "      <th>3</th>\n",
       "      <td>Trump Is So Obsessed He Even Has Obama’s Name...</td>\n",
       "      <td>On Christmas day, Donald Trump announced that ...</td>\n",
       "    </tr>\n",
       "    <tr>\n",
       "      <th>4</th>\n",
       "      <td>Pope Francis Just Called Out Donald Trump Dur...</td>\n",
       "      <td>Pope Francis used his annual Christmas Day mes...</td>\n",
       "    </tr>\n",
       "  </tbody>\n",
       "</table>\n",
       "</div>"
      ],
      "text/plain": [
       "                                               title  \\\n",
       "0   Donald Trump Sends Out Embarrassing New Year’...   \n",
       "1   Drunk Bragging Trump Staffer Started Russian ...   \n",
       "2   Sheriff David Clarke Becomes An Internet Joke...   \n",
       "3   Trump Is So Obsessed He Even Has Obama’s Name...   \n",
       "4   Pope Francis Just Called Out Donald Trump Dur...   \n",
       "\n",
       "                                                text  \n",
       "0  Donald Trump just couldn t wish all Americans ...  \n",
       "1  House Intelligence Committee Chairman Devin Nu...  \n",
       "2  On Friday, it was revealed that former Milwauk...  \n",
       "3  On Christmas day, Donald Trump announced that ...  \n",
       "4  Pope Francis used his annual Christmas Day mes...  "
      ]
     },
     "execution_count": 4,
     "metadata": {},
     "output_type": "execute_result"
    }
   ],
   "source": [
    "fake.head()"
   ]
  },
  {
   "cell_type": "markdown",
   "id": "be5c7c39-dd0f-455e-80cf-291a3bb5766b",
   "metadata": {},
   "source": [
    "# Data Preparation"
   ]
  },
  {
   "cell_type": "markdown",
   "id": "dc3d3ee1",
   "metadata": {
    "papermill": {
     "duration": 0.005364,
     "end_time": "2025-06-11T15:59:40.824969",
     "exception": false,
     "start_time": "2025-06-11T15:59:40.819605",
     "status": "completed"
    },
    "tags": []
   },
   "source": [
    "## 🏷️ Label Assignment\n",
    "\n",
    "To enable binary classification, we add a `label` column to each dataset:\n",
    "\n",
    "- `1` for **real news**\n",
    "- `0` for **fake news**\n"
   ]
  },
  {
   "cell_type": "code",
   "execution_count": 5,
   "id": "fff5e0f3",
   "metadata": {
    "papermill": {
     "duration": 0.013092,
     "end_time": "2025-06-11T15:59:40.843809",
     "exception": false,
     "start_time": "2025-06-11T15:59:40.830717",
     "status": "completed"
    },
    "tags": []
   },
   "outputs": [],
   "source": [
    "real['label'] = 1\n",
    "fake['label'] = 0"
   ]
  },
  {
   "cell_type": "markdown",
   "id": "6743aebd",
   "metadata": {
    "papermill": {
     "duration": 0.005531,
     "end_time": "2025-06-11T15:59:40.855043",
     "exception": false,
     "start_time": "2025-06-11T15:59:40.849512",
     "status": "completed"
    },
    "tags": []
   },
   "source": [
    "## 🧩 Dataset Combination\n",
    "\n",
    "We concatenate both the labeled real and fake datasets into one unified DataFrame. This combined dataset will be used for training and evaluation."
   ]
  },
  {
   "cell_type": "code",
   "execution_count": 6,
   "id": "6fa5c1d1",
   "metadata": {
    "papermill": {
     "duration": 0.012864,
     "end_time": "2025-06-11T15:59:40.873880",
     "exception": false,
     "start_time": "2025-06-11T15:59:40.861016",
     "status": "completed"
    },
    "tags": []
   },
   "outputs": [],
   "source": [
    "df = pd.concat([real, fake], ignore_index=True)"
   ]
  },
  {
   "cell_type": "markdown",
   "id": "90a5e340",
   "metadata": {
    "papermill": {
     "duration": 0.00508,
     "end_time": "2025-06-11T15:59:40.884210",
     "exception": false,
     "start_time": "2025-06-11T15:59:40.879130",
     "status": "completed"
    },
    "tags": []
   },
   "source": [
    "## 🔤 Preparing Stopwords\n",
    "\n",
    "We load a predefined set of common English stopwords using NLTK. These words typically provide little semantic value and can be removed during preprocessing."
   ]
  },
  {
   "cell_type": "code",
   "execution_count": 7,
   "id": "8b72fb68",
   "metadata": {
    "papermill": {
     "duration": 0.013106,
     "end_time": "2025-06-11T15:59:40.902399",
     "exception": false,
     "start_time": "2025-06-11T15:59:40.889293",
     "status": "completed"
    },
    "tags": []
   },
   "outputs": [],
   "source": [
    "stop_words = set(stopwords.words('english'))"
   ]
  },
  {
   "cell_type": "markdown",
   "id": "b7126a0d",
   "metadata": {
    "papermill": {
     "duration": 0.004933,
     "end_time": "2025-06-11T15:59:40.912493",
     "exception": false,
     "start_time": "2025-06-11T15:59:40.907560",
     "status": "completed"
    },
    "tags": []
   },
   "source": [
    "## 🧹 Text Preprocessing Function\n",
    "\n",
    "We define a function `remove_stopwrods` that:\n",
    "- Tokenizes the input text\n",
    "- Removes stopwords and non-alphabetic tokens\n",
    "- Returns a cleaned version of the input text"
   ]
  },
  {
   "cell_type": "code",
   "execution_count": 8,
   "id": "266c97de",
   "metadata": {
    "papermill": {
     "duration": 0.010608,
     "end_time": "2025-06-11T15:59:40.928168",
     "exception": false,
     "start_time": "2025-06-11T15:59:40.917560",
     "status": "completed"
    },
    "tags": []
   },
   "outputs": [],
   "source": [
    "def remove_stopwords(text):\n",
    "    word_tokens = word_tokenize(text)\n",
    "    filtered_text = [word for word in word_tokens if word.lower() not in stop_words and word.isalpha()]\n",
    "    return \" \".join(filtered_text)\n",
    "    "
   ]
  },
  {
   "cell_type": "markdown",
   "id": "ca6ac4a1",
   "metadata": {
    "papermill": {
     "duration": 0.005014,
     "end_time": "2025-06-11T15:59:40.938492",
     "exception": false,
     "start_time": "2025-06-11T15:59:40.933478",
     "status": "completed"
    },
    "tags": []
   },
   "source": [
    "## 🧱 Rebuilding Unified Text Field\n",
    "\n",
    "We ensure that the `content` field is constructed by combining `title` and `text` again. This guarantees that any previous operations affecting `content` are overwritten and consistent."
   ]
  },
  {
   "cell_type": "code",
   "execution_count": 9,
   "id": "467c15e5",
   "metadata": {
    "papermill": {
     "duration": 0.176272,
     "end_time": "2025-06-11T15:59:41.119921",
     "exception": false,
     "start_time": "2025-06-11T15:59:40.943649",
     "status": "completed"
    },
    "tags": []
   },
   "outputs": [],
   "source": [
    "df['content'] = df['title'] + ' ' + df['text']"
   ]
  },
  {
   "cell_type": "markdown",
   "id": "e589ea7d",
   "metadata": {
    "papermill": {
     "duration": 0.005124,
     "end_time": "2025-06-11T15:59:41.130775",
     "exception": false,
     "start_time": "2025-06-11T15:59:41.125651",
     "status": "completed"
    },
    "tags": []
   },
   "source": [
    "## 🧼 Final Text Cleaning\n",
    "\n",
    "We apply our custom `remove_stopwrods` function to clean the combined `content` field. This includes removing stopwords and non-alphabetic tokens."
   ]
  },
  {
   "cell_type": "code",
   "execution_count": 10,
   "id": "53438e96",
   "metadata": {
    "papermill": {
     "duration": 90.171376,
     "end_time": "2025-06-11T16:01:11.307329",
     "exception": false,
     "start_time": "2025-06-11T15:59:41.135953",
     "status": "completed"
    },
    "tags": []
   },
   "outputs": [],
   "source": [
    "df['content'] = df['content'].apply(remove_stopwords)"
   ]
  },
  {
   "cell_type": "markdown",
   "id": "0e8dbec9",
   "metadata": {
    "papermill": {
     "duration": 0.005198,
     "end_time": "2025-06-11T16:01:11.318257",
     "exception": false,
     "start_time": "2025-06-11T16:01:11.313059",
     "status": "completed"
    },
    "tags": []
   },
   "source": [
    "## 🔀 Dataset Shuffling\n",
    "\n",
    "Shuffling the dataset ensures that there is no ordering bias when feeding data to the model."
   ]
  },
  {
   "cell_type": "code",
   "execution_count": 11,
   "id": "b766304a",
   "metadata": {
    "papermill": {
     "duration": 0.025351,
     "end_time": "2025-06-11T16:01:11.348751",
     "exception": false,
     "start_time": "2025-06-11T16:01:11.323400",
     "status": "completed"
    },
    "tags": []
   },
   "outputs": [],
   "source": [
    "df = df.sample(frac=1, random_state=101)"
   ]
  },
  {
   "cell_type": "markdown",
   "id": "6c5e71e7",
   "metadata": {
    "papermill": {
     "duration": 0.005017,
     "end_time": "2025-06-11T16:01:11.359047",
     "exception": false,
     "start_time": "2025-06-11T16:01:11.354030",
     "status": "completed"
    },
    "tags": []
   },
   "source": [
    "## 📊 Final Dataset Structure\n",
    "\n",
    "We keep only the `content` and `label` columns and reset the index. This creates a clean and consistent structure for downstream model training."
   ]
  },
  {
   "cell_type": "code",
   "execution_count": 12,
   "id": "368679ee",
   "metadata": {
    "papermill": {
     "duration": 0.021299,
     "end_time": "2025-06-11T16:01:11.385336",
     "exception": false,
     "start_time": "2025-06-11T16:01:11.364037",
     "status": "completed"
    },
    "tags": []
   },
   "outputs": [
    {
     "data": {
      "text/html": [
       "<div>\n",
       "<style scoped>\n",
       "    .dataframe tbody tr th:only-of-type {\n",
       "        vertical-align: middle;\n",
       "    }\n",
       "\n",
       "    .dataframe tbody tr th {\n",
       "        vertical-align: top;\n",
       "    }\n",
       "\n",
       "    .dataframe thead th {\n",
       "        text-align: right;\n",
       "    }\n",
       "</style>\n",
       "<table border=\"1\" class=\"dataframe\">\n",
       "  <thead>\n",
       "    <tr style=\"text-align: right;\">\n",
       "      <th></th>\n",
       "      <th>content</th>\n",
       "      <th>label</th>\n",
       "    </tr>\n",
       "  </thead>\n",
       "  <tbody>\n",
       "    <tr>\n",
       "      <th>0</th>\n",
       "      <td>Factbox Humanitarian crisis worsens Bangladesh...</td>\n",
       "      <td>1</td>\n",
       "    </tr>\n",
       "    <tr>\n",
       "      <th>1</th>\n",
       "      <td>Transgender court hearing set amid fight Trump...</td>\n",
       "      <td>1</td>\n",
       "    </tr>\n",
       "    <tr>\n",
       "      <th>2</th>\n",
       "      <td>BRIEFCASES FULL MONEY One Undercover Whistlebl...</td>\n",
       "      <td>0</td>\n",
       "    </tr>\n",
       "    <tr>\n",
       "      <th>3</th>\n",
       "      <td>FIVE REASONS Vote Donald Trump Video LANGUAGE ...</td>\n",
       "      <td>0</td>\n",
       "    </tr>\n",
       "    <tr>\n",
       "      <th>4</th>\n",
       "      <td>Trump administration sued phone searches borde...</td>\n",
       "      <td>1</td>\n",
       "    </tr>\n",
       "  </tbody>\n",
       "</table>\n",
       "</div>"
      ],
      "text/plain": [
       "                                             content  label\n",
       "0  Factbox Humanitarian crisis worsens Bangladesh...      1\n",
       "1  Transgender court hearing set amid fight Trump...      1\n",
       "2  BRIEFCASES FULL MONEY One Undercover Whistlebl...      0\n",
       "3  FIVE REASONS Vote Donald Trump Video LANGUAGE ...      0\n",
       "4  Trump administration sued phone searches borde...      1"
      ]
     },
     "execution_count": 12,
     "metadata": {},
     "output_type": "execute_result"
    }
   ],
   "source": [
    "df = df[['content', 'label']].reset_index(drop=True)\n",
    "df.head()"
   ]
  },
  {
   "cell_type": "markdown",
   "id": "e7eb72ea",
   "metadata": {
    "papermill": {
     "duration": 0.053777,
     "end_time": "2025-06-11T16:01:11.445192",
     "exception": false,
     "start_time": "2025-06-11T16:01:11.391415",
     "status": "completed"
    },
    "tags": []
   },
   "source": [
    "::: {.callout-info}\n",
    "## Preview Output\n",
    "\n",
    "From the preview, we confirm that each row has cleaned content and an associated binary label.\n",
    "\n",
    ":::"
   ]
  },
  {
   "cell_type": "markdown",
   "id": "149088a1",
   "metadata": {
    "papermill": {
     "duration": 0.005173,
     "end_time": "2025-06-11T16:01:11.455866",
     "exception": false,
     "start_time": "2025-06-11T16:01:11.450693",
     "status": "completed"
    },
    "tags": []
   },
   "source": [
    "# 🧾 DataFrame Overview\n",
    "\n",
    "We check the data type and memory usage of the dataset to confirm its readiness for model processing."
   ]
  },
  {
   "cell_type": "code",
   "execution_count": 13,
   "id": "d8e376d8",
   "metadata": {
    "papermill": {
     "duration": 0.027582,
     "end_time": "2025-06-11T16:01:11.488953",
     "exception": false,
     "start_time": "2025-06-11T16:01:11.461371",
     "status": "completed"
    },
    "tags": []
   },
   "outputs": [
    {
     "name": "stdout",
     "output_type": "stream",
     "text": [
      "<class 'pandas.core.frame.DataFrame'>\n",
      "RangeIndex: 44898 entries, 0 to 44897\n",
      "Data columns (total 2 columns):\n",
      " #   Column   Non-Null Count  Dtype \n",
      "---  ------   --------------  ----- \n",
      " 0   content  44898 non-null  object\n",
      " 1   label    44898 non-null  int64 \n",
      "dtypes: int64(1), object(1)\n",
      "memory usage: 701.7+ KB\n"
     ]
    }
   ],
   "source": [
    "df.info()"
   ]
  },
  {
   "cell_type": "markdown",
   "id": "185001e5",
   "metadata": {
    "papermill": {
     "duration": 0.005142,
     "end_time": "2025-06-11T16:01:11.499604",
     "exception": false,
     "start_time": "2025-06-11T16:01:11.494462",
     "status": "completed"
    },
    "tags": []
   },
   "source": [
    "::: {.callout-note}\n",
    "## Data Overview Output\n",
    "\n",
    "There are **44,898 samples** with two columns (`content`, `label`). No missing values are present, confirming data integrity.\n",
    "\n",
    ":::"
   ]
  },
  {
   "cell_type": "markdown",
   "id": "285c6909",
   "metadata": {
    "papermill": {
     "duration": 0.005112,
     "end_time": "2025-06-11T16:01:11.510009",
     "exception": false,
     "start_time": "2025-06-11T16:01:11.504897",
     "status": "completed"
    },
    "tags": []
   },
   "source": [
    "# 🧱 Custom Dataset Class\n",
    "\n",
    "This defines a `TextClassificationDataset` PyTorch class to:\n",
    "\n",
    "- Split the dataset into train/test internally\n",
    "- Tokenize the content using `tokenizers` library\n",
    "- Return token IDs and labels in `__getitem__`\n",
    "\n",
    "This enables flexible loading and tokenization of samples."
   ]
  },
  {
   "cell_type": "code",
   "execution_count": 14,
   "id": "f9406d63",
   "metadata": {
    "papermill": {
     "duration": 0.013935,
     "end_time": "2025-06-11T16:01:11.529234",
     "exception": false,
     "start_time": "2025-06-11T16:01:11.515299",
     "status": "completed"
    },
    "tags": []
   },
   "outputs": [],
   "source": [
    "class TextClassificationDataset(Dataset):\n",
    "    def __init__(self, dataframe, tokenizer=None, text_column='content', label_column='label', train=False):\n",
    "        super().__init__()\n",
    "\n",
    "        train_df, test_df = train_test_split(dataframe,\n",
    "                                             test_size=0.1,\n",
    "                                             random_state=42,\n",
    "                                             shuffle=True,\n",
    "                                             stratify=dataframe[label_column]\n",
    "                                            )\n",
    "        \n",
    "        if train:\n",
    "            self.texts = train_df[text_column].tolist()\n",
    "            self.labels = train_df[label_column].tolist()\n",
    "\n",
    "            if tokenizer is None:\n",
    "                self._build_tokenizer(self.texts)\n",
    "            else:\n",
    "                self.tokenizer = tokenizer\n",
    "        else:\n",
    "            self.texts = test_df[text_column].tolist()\n",
    "            self.labels = test_df[label_column].tolist()\n",
    "\n",
    "            if tokenizer is None:\n",
    "                raise ValueError(\"Tokenizer must be provided for test split.\")\n",
    "\n",
    "            self.tokenizer = tokenizer\n",
    "        \n",
    "    def _build_tokenizer(self, texts):\n",
    "        self.tokenizer = Tokenizer(WordLevel(unk_token=\"<unk>\"))\n",
    "        self.tokenizer.pre_tokenizer = Whitespace()\n",
    "        trainer = WordLevelTrainer(special_tokens=[\"<unk>\", \"<pad>\"])\n",
    "        self.tokenizer.train_from_iterator(texts, trainer=trainer)\n",
    "        \n",
    "    def __len__(self):\n",
    "        return len(self.texts)\n",
    "\n",
    "    def __getitem__(self, idx):\n",
    "        token_ids = self.tokenizer.encode(self.texts[idx]).ids\n",
    "        token_ids = torch.tensor(token_ids, dtype=torch.long)\n",
    "        return token_ids, self.labels[idx]"
   ]
  },
  {
   "cell_type": "markdown",
   "id": "34263ed5",
   "metadata": {
    "papermill": {
     "duration": 0.005203,
     "end_time": "2025-06-11T16:01:11.539949",
     "exception": false,
     "start_time": "2025-06-11T16:01:11.534746",
     "status": "completed"
    },
    "tags": []
   },
   "source": [
    "# 📦 Batch Collation Function\n",
    "\n",
    "We define a `collate_batch` function to:\n",
    "\n",
    "- Compute offsets for each sample (needed for `EmbeddingBag`)\n",
    "- Return `token_ids`, `labels`, and `offsets` for batch processing"
   ]
  },
  {
   "cell_type": "code",
   "execution_count": 15,
   "id": "9eeadb20",
   "metadata": {
    "papermill": {
     "duration": 0.011101,
     "end_time": "2025-06-11T16:01:11.556646",
     "exception": false,
     "start_time": "2025-06-11T16:01:11.545545",
     "status": "completed"
    },
    "tags": []
   },
   "outputs": [],
   "source": [
    "def collate_batch(batch):\n",
    "    token_lists, labels = zip(*batch)\n",
    "\n",
    "    token_ids = torch.cat(token_lists)\n",
    "    labels = torch.tensor(labels, dtype=torch.long)\n",
    "\n",
    "    offsets = [0]\n",
    "    for tokens in token_lists:\n",
    "        offsets.append(offsets[-1] + len(tokens))\n",
    "\n",
    "    offsets = torch.tensor(offsets[:-1], dtype=torch.long)\n",
    "    \n",
    "    return token_ids, labels, offsets"
   ]
  },
  {
   "cell_type": "markdown",
   "id": "a8c50979",
   "metadata": {
    "papermill": {
     "duration": 0.00521,
     "end_time": "2025-06-11T16:01:11.567596",
     "exception": false,
     "start_time": "2025-06-11T16:01:11.562386",
     "status": "completed"
    },
    "tags": []
   },
   "source": [
    "# 🏗️ Initializing Datasets\n",
    "\n",
    "We instantiate training and validation dataset objects using our custom class. The tokenizer is trained only on the training set and reused for validation."
   ]
  },
  {
   "cell_type": "code",
   "execution_count": 16,
   "id": "fee4f656",
   "metadata": {
    "papermill": {
     "duration": 3.777086,
     "end_time": "2025-06-11T16:01:15.349924",
     "exception": false,
     "start_time": "2025-06-11T16:01:11.572838",
     "status": "completed"
    },
    "tags": []
   },
   "outputs": [],
   "source": [
    "train_dataset = TextClassificationDataset(df, train=True)\n",
    "val_dataset = TextClassificationDataset(df, tokenizer=train_dataset.tokenizer)"
   ]
  },
  {
   "cell_type": "markdown",
   "id": "9ab64052",
   "metadata": {
    "papermill": {
     "duration": 0.00538,
     "end_time": "2025-06-11T16:01:15.361269",
     "exception": false,
     "start_time": "2025-06-11T16:01:15.355889",
     "status": "completed"
    },
    "tags": []
   },
   "source": [
    "# 🔄 Dataloader Setup\n",
    "\n",
    "We create PyTorch DataLoaders for both training and validation datasets. Batch size and collation function are specified for efficient loading."
   ]
  },
  {
   "cell_type": "code",
   "execution_count": 17,
   "id": "9c54145c",
   "metadata": {
    "papermill": {
     "duration": 0.010864,
     "end_time": "2025-06-11T16:01:15.377634",
     "exception": false,
     "start_time": "2025-06-11T16:01:15.366770",
     "status": "completed"
    },
    "tags": []
   },
   "outputs": [],
   "source": [
    "train_loader = DataLoader(train_dataset, batch_size=64, collate_fn=collate_batch, shuffle=True)\n",
    "val_loader = DataLoader(val_dataset, batch_size=16, collate_fn=collate_batch)"
   ]
  },
  {
   "cell_type": "code",
   "execution_count": 18,
   "id": "2e40a905",
   "metadata": {
    "papermill": {
     "duration": 0.160258,
     "end_time": "2025-06-11T16:01:15.543502",
     "exception": false,
     "start_time": "2025-06-11T16:01:15.383244",
     "status": "completed"
    },
    "tags": []
   },
   "outputs": [
    {
     "data": {
      "text/plain": [
       "(tensor([  13,  866,   71,  ...,  575, 1455, 3816]),\n",
       " tensor([1, 0, 1, 1, 1, 0, 0, 0, 0, 1, 1, 1, 0, 0, 1, 1, 1, 1, 0, 0, 1, 1, 1, 0,\n",
       "         0, 0, 0, 0, 0, 0, 0, 1, 1, 0, 0, 0, 1, 0, 0, 1, 0, 1, 0, 1, 1, 0, 0, 1,\n",
       "         0, 1, 0, 1, 1, 1, 0, 1, 1, 1, 1, 0, 1, 0, 1, 0]),\n",
       " tensor([    0,   156,   465,   704,  1073,  1518,  1714,  2001,  2162,  2612,\n",
       "          2657,  2871,  3048,  3358,  3377,  3544,  3788,  4101,  4157,  4346,\n",
       "          4876,  4947,  5058,  5328,  5469,  5486,  5506,  5618,  5833,  5853,\n",
       "          6045,  6269,  6400,  6545,  6563,  6735,  6883,  6935,  7019,  7316,\n",
       "          7562,  7872,  7972,  7981,  8034,  8250,  8397,  8782,  8879,  9701,\n",
       "          9928,  9945, 10179, 10303, 10542, 10753, 10805, 11028, 11091, 11599,\n",
       "         11609, 12232, 12450, 12813]))"
      ]
     },
     "execution_count": 18,
     "metadata": {},
     "output_type": "execute_result"
    }
   ],
   "source": [
    "next(iter(train_loader))"
   ]
  },
  {
   "cell_type": "code",
   "execution_count": 19,
   "id": "ff7d1432",
   "metadata": {
    "papermill": {
     "duration": 0.020343,
     "end_time": "2025-06-11T16:01:15.569757",
     "exception": false,
     "start_time": "2025-06-11T16:01:15.549414",
     "status": "completed"
    },
    "tags": []
   },
   "outputs": [
    {
     "data": {
      "text/plain": [
       "(tensor([11271,    87,   548,  ...,  4663,   138,   196]),\n",
       " tensor([1, 0, 1, 1, 0, 0, 0, 1, 1, 1, 1, 0, 0, 0, 1, 1]),\n",
       " tensor([   0,  331,  449,  513,  884,  977, 1123, 1561, 1947, 2276, 2640, 2848,\n",
       "         3152, 3415, 3649, 3858]))"
      ]
     },
     "execution_count": 19,
     "metadata": {},
     "output_type": "execute_result"
    }
   ],
   "source": [
    "next(iter(val_loader))"
   ]
  },
  {
   "cell_type": "markdown",
   "id": "95904e87-fe67-4a63-b229-de598aa8dbf5",
   "metadata": {},
   "source": [
    "# Model Class"
   ]
  },
  {
   "cell_type": "code",
   "execution_count": 20,
   "id": "664f329f",
   "metadata": {
    "papermill": {
     "duration": 0.011956,
     "end_time": "2025-06-11T16:01:15.587659",
     "exception": false,
     "start_time": "2025-06-11T16:01:15.575703",
     "status": "completed"
    },
    "tags": []
   },
   "outputs": [],
   "source": [
    "class TextClassifier(nn.Module):\n",
    "    def __init__(self, vocab_size: int, embed_dim: int, num_classes: int):\n",
    "        super().__init__()\n",
    "\n",
    "        self.vocab_size = vocab_size\n",
    "        self.embed_dim = embed_dim\n",
    "\n",
    "        self.embedding = nn.EmbeddingBag(num_embeddings=vocab_size, embedding_dim=embed_dim)\n",
    "        self.fc = nn.Linear(embed_dim, num_classes)\n",
    "\n",
    "    def forward(self, text, offsets):\n",
    "        embed = self.embedding(text, offsets)\n",
    "        return self.fc(embed)"
   ]
  },
  {
   "cell_type": "markdown",
   "id": "f492f6c4-b5cf-49df-901a-879c18c0b3e0",
   "metadata": {},
   "source": [
    "# Model Training and Validation"
   ]
  },
  {
   "cell_type": "code",
   "execution_count": 21,
   "id": "2611a111",
   "metadata": {
    "papermill": {
     "duration": 93.759868,
     "end_time": "2025-06-11T16:02:49.353245",
     "exception": false,
     "start_time": "2025-06-11T16:01:15.593377",
     "status": "completed"
    },
    "tags": []
   },
   "outputs": [
    {
     "name": "stdout",
     "output_type": "stream",
     "text": [
      "[Epochs: 1/5] | train_loss: 0.20683, train_acc: 0.94370 | val_loss: 0.06314, val_acc: 0.98307\n",
      "[Epochs: 2/5] | train_loss: 0.04091, train_acc: 0.98963 | val_loss: 0.03342, val_acc: 0.99065\n",
      "[Epochs: 3/5] | train_loss: 0.01905, train_acc: 0.99611 | val_loss: 0.02316, val_acc: 0.99399\n",
      "[Epochs: 4/5] | train_loss: 0.01010, train_acc: 0.99817 | val_loss: 0.01761, val_acc: 0.99510\n",
      "[Epochs: 5/5] | train_loss: 0.00565, train_acc: 0.99911 | val_loss: 0.01415, val_acc: 0.99555\n"
     ]
    }
   ],
   "source": [
    "device = torch.device('cuda' if torch.cuda.is_available() else 'cpu')\n",
    "\n",
    "embed_dim = 200\n",
    "vocab_size = train_dataset.tokenizer.get_vocab_size()\n",
    "\n",
    "torch.manual_seed(42)\n",
    "\n",
    "model = TextClassifier(vocab_size, embed_dim, 2).to(device)\n",
    "optimizer = torch.optim.Adam(model.parameters())\n",
    "loss_fn = nn.CrossEntropyLoss()\n",
    "\n",
    "epochs = 5\n",
    "\n",
    "losses = [] \n",
    "accs = []\n",
    "val_losses = []\n",
    "val_accs = []\n",
    "\n",
    "for epoch in range(epochs):\n",
    "    total_loss = 0.0\n",
    "    cur_len = 0\n",
    "    correct = 0\n",
    "\n",
    "    model.train()\n",
    "    for text, labels, offsets in train_loader:\n",
    "        text, labels, offsets = text.to(device), labels.to(device), offsets.to(device)\n",
    "        outputs = model(text, offsets)\n",
    "\n",
    "        optimizer.zero_grad()\n",
    "\n",
    "        loss = loss_fn(outputs, labels)\n",
    "        loss.backward()\n",
    "        optimizer.step()\n",
    "\n",
    "        batch_size = labels.size(0)\n",
    "        total_loss += loss.item() * batch_size \n",
    "\n",
    "        _, predicted = torch.max(outputs, dim=1)\n",
    "        correct += (predicted == labels).sum().item()\n",
    "        \n",
    "        cur_len += batch_size\n",
    "        \n",
    "\n",
    "    losses.append(total_loss/cur_len)\n",
    "    accs.append(correct/cur_len)\n",
    "\n",
    "    val_loss = 0.0\n",
    "    cur_len = 0\n",
    "    correct = 0\n",
    "    \n",
    "    with torch.no_grad():\n",
    "        model.eval()\n",
    "        for text, labels, offsets in val_loader:\n",
    "            text, labels, offsets = text.to(device), labels.to(device), offsets.to(device)\n",
    "            outputs = model(text, offsets)\n",
    "    \n",
    "            loss = loss_fn(outputs, labels)\n",
    "    \n",
    "            batch_size = labels.size(0)\n",
    "            val_loss += loss.item() * batch_size \n",
    "    \n",
    "            _, predicted = torch.max(outputs, dim=1)\n",
    "            correct += (predicted == labels).sum().item()\n",
    "            \n",
    "            cur_len += batch_size\n",
    "\n",
    "    val_loss = val_loss / cur_len\n",
    "    val_acc = correct / cur_len\n",
    "\n",
    "    val_losses.append(val_loss)\n",
    "    val_accs.append(val_acc)\n",
    "\n",
    "    print(f\"[Epochs: {epoch+1:>{len(str(epochs))}}/{epochs}]\",\n",
    "          f\"train_loss: {losses[-1]:.5f}, train_acc: {accs[-1]:.5f}\",\n",
    "          f\"val_loss: {val_losses[-1]:.5f}, val_acc: {val_accs[-1]:.5f}\",\n",
    "          sep=\" | \"\n",
    "         )"
   ]
  },
  {
   "cell_type": "code",
   "execution_count": 22,
   "id": "b68897e8",
   "metadata": {
    "papermill": {
     "duration": 0.433844,
     "end_time": "2025-06-11T16:02:49.798380",
     "exception": false,
     "start_time": "2025-06-11T16:02:49.364536",
     "status": "completed"
    },
    "tags": []
   },
   "outputs": [
    {
     "data": {
      "image/png": "[encoded data removed]",
      "text/plain": [
       "<Figure size 1000x600 with 2 Axes>"
      ]
     },
     "metadata": {},
     "output_type": "display_data"
    }
   ],
   "source": [
    "#| label: fig-loss\n",
    "#| fig-cap: \"Loss and Accuracy per epoch\"\n",
    "\n",
    "import matplotlib.pyplot as plt\n",
    "\n",
    "fig, ax1 = plt.subplots(figsize=(10, 6))\n",
    "\n",
    "ax2 = ax1.twinx()\n",
    "ax1.plot(range(1, epochs+1), losses, 'r-o', label='Train Loss')\n",
    "ax1.plot(range(1, epochs+1), val_losses, 'b-o', label='Val Loss')\n",
    "ax2.plot(range(1, epochs+1), accs, 'r-x', label='Train Accuracy')\n",
    "ax2.plot(range(1, epochs+1), val_accs, 'b-x', label='Val Accuracy')\n",
    "\n",
    "ax1.set_xlabel('Epoch')\n",
    "ax1.set_ylabel('Loss', color='r')\n",
    "ax2.set_ylabel('Accuracy', color='b')\n",
    "\n",
    "ax1.legend(loc='center')\n",
    "ax2.legend(loc='center right')\n",
    "\n",
    "plt.title('Loss and Accuracy per Epoch')\n",
    "plt.show()"
   ]
  }
 ],
 "metadata": {
  "kaggle": {
   "accelerator": "gpu",
   "dataSources": [
    {
     "datasetId": 7278464,
     "sourceId": 11604520,
     "sourceType": "datasetVersion"
    }
   ],
   "dockerImageVersionId": 31041,
   "isGpuEnabled": true,
   "isInternetEnabled": true,
   "language": "python",
   "sourceType": "notebook"
  },
  "kernelspec": {
   "display_name": "Python 3 (ipykernel)",
   "language": "python",
   "name": "python3"
  },
  "language_info": {
   "codemirror_mode": {
    "name": "ipython",
    "version": 3
   },
   "file_extension": ".py",
   "mimetype": "text/x-python",
   "name": "python",
   "nbconvert_exporter": "python",
   "pygments_lexer": "ipython3",
   "version": "3.11.13"
  },
  "papermill": {
   "default_parameters": {},
   "duration": 206.338435,
   "end_time": "2025-06-11T16:02:53.058424",
   "environment_variables": {},
   "exception": null,
   "input_path": "__notebook__.ipynb",
   "output_path": "__notebook__.ipynb",
   "parameters": {},
   "start_time": "2025-06-11T15:59:26.719989",
   "version": "2.6.0"
  }
 },
 "nbformat": 4,
 "nbformat_minor": 5
}
